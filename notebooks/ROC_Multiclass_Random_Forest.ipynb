{
  "cells": [
    {
      "cell_type": "markdown",
      "id": "modern-auction",
      "metadata": {
        "id": "modern-auction"
      },
      "source": [
        "# ROC Curve  for multiclass classification \n",
        "**Classifier**: Random Forest"
      ]
    },
    {
      "cell_type": "markdown",
      "id": "206fd86c",
      "metadata": {
        "id": "206fd86c"
      },
      "source": [
        "The dataset used in this tutorial is from this paper:<br>\n",
        "Morang’a, C.M., Amenga–Etego, L., Bah, S.Y. et al. Machine learning approaches classify clinical malaria outcomes based on haematological parameters. BMC Med 18, 375 (2020). https://doi.org/10.1186/s12916-020-01823-3"
      ]
    },
    {
      "cell_type": "markdown",
      "id": "controlled-saudi",
      "metadata": {
        "id": "controlled-saudi"
      },
      "source": [
        "### Import libraries for the analysis "
      ]
    },
    {
      "cell_type": "code",
      "execution_count": 1,
      "id": "overhead-prefix",
      "metadata": {
        "id": "overhead-prefix"
      },
      "outputs": [],
      "source": [
        "import pandas as pd        \n",
        "import numpy as np         \n",
        "import matplotlib.pyplot as plt   \n",
        "import seaborn as sns             "
      ]
    },
    {
      "cell_type": "markdown",
      "id": "comparable-transcription",
      "metadata": {
        "id": "comparable-transcription"
      },
      "source": [
        "### Read the data"
      ]
    },
    {
      "cell_type": "code",
      "execution_count": 2,
      "id": "flexible-monthly",
      "metadata": {
        "id": "flexible-monthly"
      },
      "outputs": [],
      "source": [
        "#set path to the data file.\n",
        "data_file='https://raw.githubusercontent.com/vappiah/Machine-Learning-Tutorials/main/datasets/malaria_clin_data.csv'"
      ]
    },
    {
      "cell_type": "code",
      "execution_count": 3,
      "id": "photographic-worry",
      "metadata": {
        "id": "photographic-worry"
      },
      "outputs": [],
      "source": [
        "#read the data with pandas\n",
        "dataframe=pd.read_csv(data_file)"
      ]
    },
    {
      "cell_type": "markdown",
      "id": "coordinate-scotland",
      "metadata": {
        "id": "coordinate-scotland"
      },
      "source": [
        "### Explore and clean"
      ]
    },
    {
      "cell_type": "code",
      "execution_count": 4,
      "id": "3e5b41ad",
      "metadata": {
        "id": "3e5b41ad"
      },
      "outputs": [
        {
          "data": {
            "text/plain": [
              "(2207, 34)"
            ]
          },
          "execution_count": 4,
          "metadata": {},
          "output_type": "execute_result"
        }
      ],
      "source": [
        "#find the number of rows and columns in the dataframe\n",
        "dataframe.shape"
      ]
    },
    {
      "cell_type": "code",
      "execution_count": 5,
      "id": "c06f4ccf",
      "metadata": {
        "id": "c06f4ccf",
        "scrolled": true
      },
      "outputs": [
        {
          "data": {
            "text/html": [
              "<div>\n",
              "<style scoped>\n",
              "    .dataframe tbody tr th:only-of-type {\n",
              "        vertical-align: middle;\n",
              "    }\n",
              "\n",
              "    .dataframe tbody tr th {\n",
              "        vertical-align: top;\n",
              "    }\n",
              "\n",
              "    .dataframe thead th {\n",
              "        text-align: right;\n",
              "    }\n",
              "</style>\n",
              "<table border=\"1\" class=\"dataframe\">\n",
              "  <thead>\n",
              "    <tr style=\"text-align: right;\">\n",
              "      <th></th>\n",
              "      <th>SampleID</th>\n",
              "      <th>consent_given</th>\n",
              "      <th>location</th>\n",
              "      <th>Enrollment_Year</th>\n",
              "      <th>bednet</th>\n",
              "      <th>fever_symptom</th>\n",
              "      <th>temperature</th>\n",
              "      <th>Suspected_Organism</th>\n",
              "      <th>Suspected_infection</th>\n",
              "      <th>RDT</th>\n",
              "      <th>...</th>\n",
              "      <th>platelet_count</th>\n",
              "      <th>platelet_distr_width</th>\n",
              "      <th>mean_platelet_vl</th>\n",
              "      <th>neutrophils_percent</th>\n",
              "      <th>lymphocytes_percent</th>\n",
              "      <th>mixed_cells_percent</th>\n",
              "      <th>neutrophils_count</th>\n",
              "      <th>lymphocytes_count</th>\n",
              "      <th>mixed_cells_count</th>\n",
              "      <th>RBC_dist_width_Percent</th>\n",
              "    </tr>\n",
              "  </thead>\n",
              "  <tbody>\n",
              "    <tr>\n",
              "      <th>0</th>\n",
              "      <td>CCS20043</td>\n",
              "      <td>yes</td>\n",
              "      <td>Navrongo</td>\n",
              "      <td>2004</td>\n",
              "      <td>NaN</td>\n",
              "      <td>Yes</td>\n",
              "      <td>38.0</td>\n",
              "      <td>Not Known / Missing entry</td>\n",
              "      <td>NaN</td>\n",
              "      <td>Positive</td>\n",
              "      <td>...</td>\n",
              "      <td>156.0</td>\n",
              "      <td>8.2</td>\n",
              "      <td>6.8</td>\n",
              "      <td>61.8</td>\n",
              "      <td>31.7</td>\n",
              "      <td>6.5</td>\n",
              "      <td>3.6</td>\n",
              "      <td>1.8</td>\n",
              "      <td>0.3</td>\n",
              "      <td>19.0</td>\n",
              "    </tr>\n",
              "    <tr>\n",
              "      <th>1</th>\n",
              "      <td>CCS20102</td>\n",
              "      <td>yes</td>\n",
              "      <td>Navrongo</td>\n",
              "      <td>2004</td>\n",
              "      <td>NaN</td>\n",
              "      <td>Yes</td>\n",
              "      <td>38.2</td>\n",
              "      <td>Not Known / Missing entry</td>\n",
              "      <td>NaN</td>\n",
              "      <td>Positive</td>\n",
              "      <td>...</td>\n",
              "      <td>55.0</td>\n",
              "      <td>16.5</td>\n",
              "      <td>7.6</td>\n",
              "      <td>68.5</td>\n",
              "      <td>23.6</td>\n",
              "      <td>7.9</td>\n",
              "      <td>5.4</td>\n",
              "      <td>1.8</td>\n",
              "      <td>0.6</td>\n",
              "      <td>14.4</td>\n",
              "    </tr>\n",
              "    <tr>\n",
              "      <th>2</th>\n",
              "      <td>CCS20106</td>\n",
              "      <td>yes</td>\n",
              "      <td>Navrongo</td>\n",
              "      <td>2004</td>\n",
              "      <td>NaN</td>\n",
              "      <td>Yes</td>\n",
              "      <td>37.7</td>\n",
              "      <td>Not Known / Missing entry</td>\n",
              "      <td>NaN</td>\n",
              "      <td>Positive</td>\n",
              "      <td>...</td>\n",
              "      <td>20.0</td>\n",
              "      <td>2.3</td>\n",
              "      <td>5.9</td>\n",
              "      <td>32.8</td>\n",
              "      <td>53.3</td>\n",
              "      <td>13.9</td>\n",
              "      <td>2.8</td>\n",
              "      <td>4.3</td>\n",
              "      <td>1.1</td>\n",
              "      <td>18.0</td>\n",
              "    </tr>\n",
              "    <tr>\n",
              "      <th>3</th>\n",
              "      <td>CCS20147</td>\n",
              "      <td>yes</td>\n",
              "      <td>Navrongo</td>\n",
              "      <td>2004</td>\n",
              "      <td>NaN</td>\n",
              "      <td>Yes</td>\n",
              "      <td>37.7</td>\n",
              "      <td>Not Known / Missing entry</td>\n",
              "      <td>NaN</td>\n",
              "      <td>Positive</td>\n",
              "      <td>...</td>\n",
              "      <td>132.0</td>\n",
              "      <td>17.2</td>\n",
              "      <td>6.2</td>\n",
              "      <td>82.6</td>\n",
              "      <td>11.5</td>\n",
              "      <td>5.9</td>\n",
              "      <td>13.2</td>\n",
              "      <td>1.8</td>\n",
              "      <td>0.9</td>\n",
              "      <td>13.7</td>\n",
              "    </tr>\n",
              "    <tr>\n",
              "      <th>4</th>\n",
              "      <td>CCS20170</td>\n",
              "      <td>yes</td>\n",
              "      <td>Navrongo</td>\n",
              "      <td>2004</td>\n",
              "      <td>NaN</td>\n",
              "      <td>Yes</td>\n",
              "      <td>37.1</td>\n",
              "      <td>Not Known / Missing entry</td>\n",
              "      <td>NaN</td>\n",
              "      <td>Positive</td>\n",
              "      <td>...</td>\n",
              "      <td>85.0</td>\n",
              "      <td>16.1</td>\n",
              "      <td>6.8</td>\n",
              "      <td>83.7</td>\n",
              "      <td>11.3</td>\n",
              "      <td>5.0</td>\n",
              "      <td>3.8</td>\n",
              "      <td>0.5</td>\n",
              "      <td>0.2</td>\n",
              "      <td>15.0</td>\n",
              "    </tr>\n",
              "  </tbody>\n",
              "</table>\n",
              "<p>5 rows × 34 columns</p>\n",
              "</div>"
            ],
            "text/plain": [
              "   SampleID consent_given  location  Enrollment_Year bednet fever_symptom  \\\n",
              "0  CCS20043           yes  Navrongo             2004    NaN           Yes   \n",
              "1  CCS20102           yes  Navrongo             2004    NaN           Yes   \n",
              "2  CCS20106           yes  Navrongo             2004    NaN           Yes   \n",
              "3  CCS20147           yes  Navrongo             2004    NaN           Yes   \n",
              "4  CCS20170           yes  Navrongo             2004    NaN           Yes   \n",
              "\n",
              "   temperature         Suspected_Organism Suspected_infection       RDT  ...  \\\n",
              "0         38.0  Not Known / Missing entry                 NaN  Positive  ...   \n",
              "1         38.2  Not Known / Missing entry                 NaN  Positive  ...   \n",
              "2         37.7  Not Known / Missing entry                 NaN  Positive  ...   \n",
              "3         37.7  Not Known / Missing entry                 NaN  Positive  ...   \n",
              "4         37.1  Not Known / Missing entry                 NaN  Positive  ...   \n",
              "\n",
              "  platelet_count platelet_distr_width mean_platelet_vl  neutrophils_percent  \\\n",
              "0          156.0                  8.2              6.8                 61.8   \n",
              "1           55.0                 16.5              7.6                 68.5   \n",
              "2           20.0                  2.3              5.9                 32.8   \n",
              "3          132.0                 17.2              6.2                 82.6   \n",
              "4           85.0                 16.1              6.8                 83.7   \n",
              "\n",
              "  lymphocytes_percent mixed_cells_percent neutrophils_count  \\\n",
              "0                31.7                 6.5               3.6   \n",
              "1                23.6                 7.9               5.4   \n",
              "2                53.3                13.9               2.8   \n",
              "3                11.5                 5.9              13.2   \n",
              "4                11.3                 5.0               3.8   \n",
              "\n",
              "   lymphocytes_count  mixed_cells_count  RBC_dist_width_Percent  \n",
              "0                1.8                0.3                    19.0  \n",
              "1                1.8                0.6                    14.4  \n",
              "2                4.3                1.1                    18.0  \n",
              "3                1.8                0.9                    13.7  \n",
              "4                0.5                0.2                    15.0  \n",
              "\n",
              "[5 rows x 34 columns]"
            ]
          },
          "execution_count": 5,
          "metadata": {},
          "output_type": "execute_result"
        }
      ],
      "source": [
        "#get the first n rows in the dataframe\n",
        "dataframe.head(n=5)"
      ]
    },
    {
      "cell_type": "code",
      "execution_count": 6,
      "id": "cee131ee",
      "metadata": {
        "id": "cee131ee"
      },
      "outputs": [
        {
          "data": {
            "text/plain": [
              "Index(['SampleID', 'consent_given', 'location', 'Enrollment_Year', 'bednet',\n",
              "       'fever_symptom', 'temperature', 'Suspected_Organism',\n",
              "       'Suspected_infection', 'RDT', 'Blood_culture', 'Urine_culture',\n",
              "       'Taq_man_PCR', 'parasite_density', 'Microscopy', 'Laboratory_Results',\n",
              "       'Clinical_Diagnosis', 'wbc_count', 'rbc_count', 'hb_level',\n",
              "       'hematocrit', 'mean_cell_volume', 'mean_corp_hb', 'mean_cell_hb_conc',\n",
              "       'platelet_count', 'platelet_distr_width', 'mean_platelet_vl',\n",
              "       'neutrophils_percent', 'lymphocytes_percent', 'mixed_cells_percent',\n",
              "       'neutrophils_count', 'lymphocytes_count', 'mixed_cells_count',\n",
              "       'RBC_dist_width_Percent'],\n",
              "      dtype='object')"
            ]
          },
          "execution_count": 6,
          "metadata": {},
          "output_type": "execute_result"
        }
      ],
      "source": [
        "# list the column names\n",
        "dataframe.columns"
      ]
    },
    {
      "cell_type": "code",
      "execution_count": 7,
      "id": "57622b34",
      "metadata": {
        "id": "57622b34",
        "scrolled": true
      },
      "outputs": [
        {
          "name": "stdout",
          "output_type": "stream",
          "text": [
            "<class 'pandas.core.frame.DataFrame'>\n",
            "RangeIndex: 2207 entries, 0 to 2206\n",
            "Data columns (total 34 columns):\n",
            " #   Column                  Non-Null Count  Dtype  \n",
            "---  ------                  --------------  -----  \n",
            " 0   SampleID                2207 non-null   object \n",
            " 1   consent_given           2207 non-null   object \n",
            " 2   location                2207 non-null   object \n",
            " 3   Enrollment_Year         2207 non-null   int64  \n",
            " 4   bednet                  1676 non-null   object \n",
            " 5   fever_symptom           2200 non-null   object \n",
            " 6   temperature             2197 non-null   float64\n",
            " 7   Suspected_Organism      2207 non-null   object \n",
            " 8   Suspected_infection     1569 non-null   object \n",
            " 9   RDT                     2065 non-null   object \n",
            " 10  Blood_culture           122 non-null    object \n",
            " 11  Urine_culture           112 non-null    object \n",
            " 12  Taq_man_PCR             176 non-null    object \n",
            " 13  parasite_density        2173 non-null   float64\n",
            " 14  Microscopy              2170 non-null   object \n",
            " 15  Laboratory_Results      2207 non-null   object \n",
            " 16  Clinical_Diagnosis      2207 non-null   object \n",
            " 17  wbc_count               2207 non-null   float64\n",
            " 18  rbc_count               2207 non-null   float64\n",
            " 19  hb_level                2207 non-null   float64\n",
            " 20  hematocrit              2207 non-null   float64\n",
            " 21  mean_cell_volume        2207 non-null   float64\n",
            " 22  mean_corp_hb            2204 non-null   float64\n",
            " 23  mean_cell_hb_conc       2205 non-null   float64\n",
            " 24  platelet_count          2198 non-null   float64\n",
            " 25  platelet_distr_width    2175 non-null   float64\n",
            " 26  mean_platelet_vl        2190 non-null   float64\n",
            " 27  neutrophils_percent     2207 non-null   float64\n",
            " 28  lymphocytes_percent     2207 non-null   float64\n",
            " 29  mixed_cells_percent     2207 non-null   float64\n",
            " 30  neutrophils_count       2195 non-null   float64\n",
            " 31  lymphocytes_count       2196 non-null   float64\n",
            " 32  mixed_cells_count       2196 non-null   float64\n",
            " 33  RBC_dist_width_Percent  2198 non-null   float64\n",
            "dtypes: float64(19), int64(1), object(14)\n",
            "memory usage: 586.4+ KB\n"
          ]
        }
      ],
      "source": [
        "#obtain some information about the data \n",
        "#i.e. columns,datatypes,missing values,etc\n",
        "dataframe.info()"
      ]
    },
    {
      "cell_type": "code",
      "execution_count": 8,
      "id": "0b6a589c",
      "metadata": {
        "id": "0b6a589c"
      },
      "outputs": [],
      "source": [
        "#we are interested in the columns : 'Clinical_diagnosis' up to 'RBC_dist_width_Percent'\n",
        "#meaning we will subset the data from column 16 - the last column\n",
        "subset=dataframe.iloc[:,16:]"
      ]
    },
    {
      "cell_type": "code",
      "execution_count": 9,
      "id": "fc1a0186",
      "metadata": {
        "id": "fc1a0186"
      },
      "outputs": [
        {
          "data": {
            "text/plain": [
              "(2207, 18)"
            ]
          },
          "execution_count": 9,
          "metadata": {},
          "output_type": "execute_result"
        }
      ],
      "source": [
        "subset.shape"
      ]
    },
    {
      "cell_type": "code",
      "execution_count": 10,
      "id": "38ba54da",
      "metadata": {
        "id": "38ba54da",
        "scrolled": true
      },
      "outputs": [
        {
          "name": "stdout",
          "output_type": "stream",
          "text": [
            "<class 'pandas.core.frame.DataFrame'>\n",
            "RangeIndex: 2207 entries, 0 to 2206\n",
            "Data columns (total 18 columns):\n",
            " #   Column                  Non-Null Count  Dtype  \n",
            "---  ------                  --------------  -----  \n",
            " 0   Clinical_Diagnosis      2207 non-null   object \n",
            " 1   wbc_count               2207 non-null   float64\n",
            " 2   rbc_count               2207 non-null   float64\n",
            " 3   hb_level                2207 non-null   float64\n",
            " 4   hematocrit              2207 non-null   float64\n",
            " 5   mean_cell_volume        2207 non-null   float64\n",
            " 6   mean_corp_hb            2204 non-null   float64\n",
            " 7   mean_cell_hb_conc       2205 non-null   float64\n",
            " 8   platelet_count          2198 non-null   float64\n",
            " 9   platelet_distr_width    2175 non-null   float64\n",
            " 10  mean_platelet_vl        2190 non-null   float64\n",
            " 11  neutrophils_percent     2207 non-null   float64\n",
            " 12  lymphocytes_percent     2207 non-null   float64\n",
            " 13  mixed_cells_percent     2207 non-null   float64\n",
            " 14  neutrophils_count       2195 non-null   float64\n",
            " 15  lymphocytes_count       2196 non-null   float64\n",
            " 16  mixed_cells_count       2196 non-null   float64\n",
            " 17  RBC_dist_width_Percent  2198 non-null   float64\n",
            "dtypes: float64(17), object(1)\n",
            "memory usage: 310.5+ KB\n"
          ]
        }
      ],
      "source": [
        "subset.info()"
      ]
    },
    {
      "cell_type": "code",
      "execution_count": 11,
      "id": "23afa181",
      "metadata": {
        "id": "23afa181"
      },
      "outputs": [
        {
          "data": {
            "text/plain": [
              "Clinical_Diagnosis         0\n",
              "wbc_count                  0\n",
              "rbc_count                  0\n",
              "hb_level                   0\n",
              "hematocrit                 0\n",
              "mean_cell_volume           0\n",
              "mean_corp_hb               3\n",
              "mean_cell_hb_conc          2\n",
              "platelet_count             9\n",
              "platelet_distr_width      32\n",
              "mean_platelet_vl          17\n",
              "neutrophils_percent        0\n",
              "lymphocytes_percent        0\n",
              "mixed_cells_percent        0\n",
              "neutrophils_count         12\n",
              "lymphocytes_count         11\n",
              "mixed_cells_count         11\n",
              "RBC_dist_width_Percent     9\n",
              "dtype: int64"
            ]
          },
          "execution_count": 11,
          "metadata": {},
          "output_type": "execute_result"
        }
      ],
      "source": [
        "#Check the mising data. We are interested in how many missing data are present in each column\n",
        "subset.isnull().sum()"
      ]
    },
    {
      "cell_type": "code",
      "execution_count": 12,
      "id": "7325d532",
      "metadata": {
        "id": "7325d532"
      },
      "outputs": [],
      "source": [
        "# handling missing values\n",
        "# drop / remove all rows with missing values\n",
        "subset.dropna(inplace=True)"
      ]
    },
    {
      "cell_type": "code",
      "execution_count": 13,
      "id": "fcab3308",
      "metadata": {
        "id": "fcab3308"
      },
      "outputs": [
        {
          "data": {
            "text/plain": [
              "(2156, 18)"
            ]
          },
          "execution_count": 13,
          "metadata": {},
          "output_type": "execute_result"
        }
      ],
      "source": [
        "subset.shape"
      ]
    },
    {
      "cell_type": "code",
      "execution_count": 14,
      "id": "f3eb1260",
      "metadata": {
        "id": "f3eb1260"
      },
      "outputs": [
        {
          "data": {
            "text/plain": [
              "Index(['Clinical_Diagnosis', 'wbc_count', 'rbc_count', 'hb_level',\n",
              "       'hematocrit', 'mean_cell_volume', 'mean_corp_hb', 'mean_cell_hb_conc',\n",
              "       'platelet_count', 'platelet_distr_width', 'mean_platelet_vl',\n",
              "       'neutrophils_percent', 'lymphocytes_percent', 'mixed_cells_percent',\n",
              "       'neutrophils_count', 'lymphocytes_count', 'mixed_cells_count',\n",
              "       'RBC_dist_width_Percent'],\n",
              "      dtype='object')"
            ]
          },
          "execution_count": 14,
          "metadata": {},
          "output_type": "execute_result"
        }
      ],
      "source": [
        "subset.columns"
      ]
    },
    {
      "cell_type": "code",
      "execution_count": 15,
      "id": "c3a3b740",
      "metadata": {
        "id": "c3a3b740"
      },
      "outputs": [],
      "source": [
        "#Let us get the different malaria outcomes. \n",
        "#The outcomes will be our labels/classes in the data"
      ]
    },
    {
      "cell_type": "code",
      "execution_count": 16,
      "id": "d365e4eb",
      "metadata": {
        "id": "d365e4eb"
      },
      "outputs": [
        {
          "data": {
            "text/plain": [
              "array(['Severe Malaria', 'Uncomplicated Malaria', 'Non-malaria Infection'],\n",
              "      dtype=object)"
            ]
          },
          "execution_count": 16,
          "metadata": {},
          "output_type": "execute_result"
        }
      ],
      "source": [
        "subset['Clinical_Diagnosis'].unique()"
      ]
    },
    {
      "cell_type": "code",
      "execution_count": 17,
      "id": "f3270bab",
      "metadata": {
        "id": "f3270bab"
      },
      "outputs": [
        {
          "data": {
            "text/plain": [
              "['Severe Malaria', 'Severe Malaria', 'Severe Malaria', 'Severe Malaria', 'Severe Malaria', ..., 'Uncomplicated Malaria', 'Non-malaria Infection', 'Non-malaria Infection', 'Non-malaria Infection', 'Non-malaria Infection']\n",
              "Length: 2156\n",
              "Categories (3, object): ['Non-malaria Infection', 'Severe Malaria', 'Uncomplicated Malaria']"
            ]
          },
          "execution_count": 17,
          "metadata": {},
          "output_type": "execute_result"
        }
      ],
      "source": [
        "labels=pd.Categorical(subset['Clinical_Diagnosis'])\n",
        "labels"
      ]
    },
    {
      "cell_type": "code",
      "execution_count": 18,
      "id": "479b921e",
      "metadata": {
        "id": "479b921e",
        "scrolled": true
      },
      "outputs": [
        {
          "data": {
            "text/html": [
              "<div>\n",
              "<style scoped>\n",
              "    .dataframe tbody tr th:only-of-type {\n",
              "        vertical-align: middle;\n",
              "    }\n",
              "\n",
              "    .dataframe tbody tr th {\n",
              "        vertical-align: top;\n",
              "    }\n",
              "\n",
              "    .dataframe thead th {\n",
              "        text-align: right;\n",
              "    }\n",
              "</style>\n",
              "<table border=\"1\" class=\"dataframe\">\n",
              "  <thead>\n",
              "    <tr style=\"text-align: right;\">\n",
              "      <th></th>\n",
              "      <th>Clinical_Diagnosis</th>\n",
              "      <th>wbc_count</th>\n",
              "      <th>rbc_count</th>\n",
              "      <th>hb_level</th>\n",
              "      <th>hematocrit</th>\n",
              "      <th>mean_cell_volume</th>\n",
              "      <th>mean_corp_hb</th>\n",
              "      <th>mean_cell_hb_conc</th>\n",
              "      <th>platelet_count</th>\n",
              "      <th>platelet_distr_width</th>\n",
              "      <th>mean_platelet_vl</th>\n",
              "      <th>neutrophils_percent</th>\n",
              "      <th>lymphocytes_percent</th>\n",
              "      <th>mixed_cells_percent</th>\n",
              "      <th>neutrophils_count</th>\n",
              "      <th>lymphocytes_count</th>\n",
              "      <th>mixed_cells_count</th>\n",
              "      <th>RBC_dist_width_Percent</th>\n",
              "    </tr>\n",
              "  </thead>\n",
              "  <tbody>\n",
              "    <tr>\n",
              "      <th>0</th>\n",
              "      <td>Severe Malaria</td>\n",
              "      <td>5.7</td>\n",
              "      <td>2.8</td>\n",
              "      <td>5.8</td>\n",
              "      <td>16.1</td>\n",
              "      <td>59.0</td>\n",
              "      <td>21.1</td>\n",
              "      <td>36.0</td>\n",
              "      <td>156.0</td>\n",
              "      <td>8.2</td>\n",
              "      <td>6.8</td>\n",
              "      <td>61.8</td>\n",
              "      <td>31.7</td>\n",
              "      <td>6.5</td>\n",
              "      <td>3.6</td>\n",
              "      <td>1.8</td>\n",
              "      <td>0.3</td>\n",
              "      <td>19.0</td>\n",
              "    </tr>\n",
              "    <tr>\n",
              "      <th>1</th>\n",
              "      <td>Severe Malaria</td>\n",
              "      <td>7.8</td>\n",
              "      <td>3.5</td>\n",
              "      <td>9.2</td>\n",
              "      <td>24.2</td>\n",
              "      <td>70.0</td>\n",
              "      <td>26.4</td>\n",
              "      <td>37.8</td>\n",
              "      <td>55.0</td>\n",
              "      <td>16.5</td>\n",
              "      <td>7.6</td>\n",
              "      <td>68.5</td>\n",
              "      <td>23.6</td>\n",
              "      <td>7.9</td>\n",
              "      <td>5.4</td>\n",
              "      <td>1.8</td>\n",
              "      <td>0.6</td>\n",
              "      <td>14.4</td>\n",
              "    </tr>\n",
              "    <tr>\n",
              "      <th>2</th>\n",
              "      <td>Severe Malaria</td>\n",
              "      <td>8.2</td>\n",
              "      <td>1.0</td>\n",
              "      <td>2.3</td>\n",
              "      <td>5.7</td>\n",
              "      <td>59.0</td>\n",
              "      <td>23.8</td>\n",
              "      <td>40.4</td>\n",
              "      <td>20.0</td>\n",
              "      <td>2.3</td>\n",
              "      <td>5.9</td>\n",
              "      <td>32.8</td>\n",
              "      <td>53.3</td>\n",
              "      <td>13.9</td>\n",
              "      <td>2.8</td>\n",
              "      <td>4.3</td>\n",
              "      <td>1.1</td>\n",
              "      <td>18.0</td>\n",
              "    </tr>\n",
              "    <tr>\n",
              "      <th>3</th>\n",
              "      <td>Severe Malaria</td>\n",
              "      <td>15.9</td>\n",
              "      <td>3.3</td>\n",
              "      <td>10.1</td>\n",
              "      <td>25.1</td>\n",
              "      <td>75.0</td>\n",
              "      <td>30.2</td>\n",
              "      <td>40.2</td>\n",
              "      <td>132.0</td>\n",
              "      <td>17.2</td>\n",
              "      <td>6.2</td>\n",
              "      <td>82.6</td>\n",
              "      <td>11.5</td>\n",
              "      <td>5.9</td>\n",
              "      <td>13.2</td>\n",
              "      <td>1.8</td>\n",
              "      <td>0.9</td>\n",
              "      <td>13.7</td>\n",
              "    </tr>\n",
              "    <tr>\n",
              "      <th>4</th>\n",
              "      <td>Severe Malaria</td>\n",
              "      <td>4.5</td>\n",
              "      <td>2.1</td>\n",
              "      <td>5.7</td>\n",
              "      <td>16.1</td>\n",
              "      <td>78.0</td>\n",
              "      <td>27.1</td>\n",
              "      <td>35.4</td>\n",
              "      <td>85.0</td>\n",
              "      <td>16.1</td>\n",
              "      <td>6.8</td>\n",
              "      <td>83.7</td>\n",
              "      <td>11.3</td>\n",
              "      <td>5.0</td>\n",
              "      <td>3.8</td>\n",
              "      <td>0.5</td>\n",
              "      <td>0.2</td>\n",
              "      <td>15.0</td>\n",
              "    </tr>\n",
              "  </tbody>\n",
              "</table>\n",
              "</div>"
            ],
            "text/plain": [
              "  Clinical_Diagnosis  wbc_count  rbc_count  hb_level  hematocrit  \\\n",
              "0     Severe Malaria        5.7        2.8       5.8        16.1   \n",
              "1     Severe Malaria        7.8        3.5       9.2        24.2   \n",
              "2     Severe Malaria        8.2        1.0       2.3         5.7   \n",
              "3     Severe Malaria       15.9        3.3      10.1        25.1   \n",
              "4     Severe Malaria        4.5        2.1       5.7        16.1   \n",
              "\n",
              "   mean_cell_volume  mean_corp_hb  mean_cell_hb_conc  platelet_count  \\\n",
              "0              59.0          21.1               36.0           156.0   \n",
              "1              70.0          26.4               37.8            55.0   \n",
              "2              59.0          23.8               40.4            20.0   \n",
              "3              75.0          30.2               40.2           132.0   \n",
              "4              78.0          27.1               35.4            85.0   \n",
              "\n",
              "   platelet_distr_width  mean_platelet_vl  neutrophils_percent  \\\n",
              "0                   8.2               6.8                 61.8   \n",
              "1                  16.5               7.6                 68.5   \n",
              "2                   2.3               5.9                 32.8   \n",
              "3                  17.2               6.2                 82.6   \n",
              "4                  16.1               6.8                 83.7   \n",
              "\n",
              "   lymphocytes_percent  mixed_cells_percent  neutrophils_count  \\\n",
              "0                 31.7                  6.5                3.6   \n",
              "1                 23.6                  7.9                5.4   \n",
              "2                 53.3                 13.9                2.8   \n",
              "3                 11.5                  5.9               13.2   \n",
              "4                 11.3                  5.0                3.8   \n",
              "\n",
              "   lymphocytes_count  mixed_cells_count  RBC_dist_width_Percent  \n",
              "0                1.8                0.3                    19.0  \n",
              "1                1.8                0.6                    14.4  \n",
              "2                4.3                1.1                    18.0  \n",
              "3                1.8                0.9                    13.7  \n",
              "4                0.5                0.2                    15.0  "
            ]
          },
          "execution_count": 18,
          "metadata": {},
          "output_type": "execute_result"
        }
      ],
      "source": [
        "subset.head()"
      ]
    },
    {
      "cell_type": "code",
      "execution_count": 19,
      "id": "653fee51",
      "metadata": {
        "id": "653fee51"
      },
      "outputs": [
        {
          "data": {
            "text/plain": [
              "Clinical_Diagnosis\n",
              "Non-malaria Infection    966\n",
              "Uncomplicated Malaria    702\n",
              "Severe Malaria           488\n",
              "Name: count, dtype: int64"
            ]
          },
          "execution_count": 19,
          "metadata": {},
          "output_type": "execute_result"
        }
      ],
      "source": [
        "#class distribution\n",
        "subset['Clinical_Diagnosis'].value_counts()"
      ]
    },
    {
      "cell_type": "code",
      "execution_count": 20,
      "id": "5340a0bf",
      "metadata": {
        "id": "5340a0bf",
        "scrolled": true
      },
      "outputs": [
        {
          "data": {
            "text/plain": [
              "<Axes: xlabel='Clinical_Diagnosis'>"
            ]
          },
          "execution_count": 20,
          "metadata": {},
          "output_type": "execute_result"
        },
        {
          "data": {
            "image/png": "[encoded data removed]",
            "text/plain": [
              "<Figure size 640x480 with 1 Axes>"
            ]
          },
          "metadata": {},
          "output_type": "display_data"
        }
      ],
      "source": [
        "# plot a bar chat to display the class distribution\n",
        "subset['Clinical_Diagnosis'].value_counts().plot.bar()"
      ]
    },
    {
      "cell_type": "code",
      "execution_count": 21,
      "id": "143dc7d4",
      "metadata": {
        "id": "143dc7d4",
        "scrolled": true
      },
      "outputs": [
        {
          "data": {
            "text/html": [
              "<div>\n",
              "<style scoped>\n",
              "    .dataframe tbody tr th:only-of-type {\n",
              "        vertical-align: middle;\n",
              "    }\n",
              "\n",
              "    .dataframe tbody tr th {\n",
              "        vertical-align: top;\n",
              "    }\n",
              "\n",
              "    .dataframe thead th {\n",
              "        text-align: right;\n",
              "    }\n",
              "</style>\n",
              "<table border=\"1\" class=\"dataframe\">\n",
              "  <thead>\n",
              "    <tr style=\"text-align: right;\">\n",
              "      <th></th>\n",
              "      <th>count</th>\n",
              "      <th>mean</th>\n",
              "      <th>std</th>\n",
              "      <th>min</th>\n",
              "      <th>25%</th>\n",
              "      <th>50%</th>\n",
              "      <th>75%</th>\n",
              "      <th>max</th>\n",
              "    </tr>\n",
              "  </thead>\n",
              "  <tbody>\n",
              "    <tr>\n",
              "      <th>wbc_count</th>\n",
              "      <td>2156.0</td>\n",
              "      <td>10.723516</td>\n",
              "      <td>5.944994</td>\n",
              "      <td>0.5</td>\n",
              "      <td>6.80</td>\n",
              "      <td>9.30</td>\n",
              "      <td>12.900</td>\n",
              "      <td>53.90</td>\n",
              "    </tr>\n",
              "    <tr>\n",
              "      <th>rbc_count</th>\n",
              "      <td>2156.0</td>\n",
              "      <td>3.911679</td>\n",
              "      <td>1.132454</td>\n",
              "      <td>0.5</td>\n",
              "      <td>3.34</td>\n",
              "      <td>4.17</td>\n",
              "      <td>4.650</td>\n",
              "      <td>6.67</td>\n",
              "    </tr>\n",
              "    <tr>\n",
              "      <th>hb_level</th>\n",
              "      <td>2156.0</td>\n",
              "      <td>9.423010</td>\n",
              "      <td>2.650261</td>\n",
              "      <td>1.4</td>\n",
              "      <td>7.90</td>\n",
              "      <td>10.20</td>\n",
              "      <td>11.325</td>\n",
              "      <td>18.70</td>\n",
              "    </tr>\n",
              "    <tr>\n",
              "      <th>hematocrit</th>\n",
              "      <td>2156.0</td>\n",
              "      <td>29.320223</td>\n",
              "      <td>8.802975</td>\n",
              "      <td>4.3</td>\n",
              "      <td>24.20</td>\n",
              "      <td>31.70</td>\n",
              "      <td>35.500</td>\n",
              "      <td>52.70</td>\n",
              "    </tr>\n",
              "    <tr>\n",
              "      <th>mean_cell_volume</th>\n",
              "      <td>2156.0</td>\n",
              "      <td>74.828256</td>\n",
              "      <td>8.046383</td>\n",
              "      <td>7.8</td>\n",
              "      <td>70.00</td>\n",
              "      <td>75.00</td>\n",
              "      <td>80.000</td>\n",
              "      <td>121.00</td>\n",
              "    </tr>\n",
              "    <tr>\n",
              "      <th>mean_corp_hb</th>\n",
              "      <td>2156.0</td>\n",
              "      <td>24.142189</td>\n",
              "      <td>3.203595</td>\n",
              "      <td>2.1</td>\n",
              "      <td>22.20</td>\n",
              "      <td>24.10</td>\n",
              "      <td>26.200</td>\n",
              "      <td>38.80</td>\n",
              "    </tr>\n",
              "    <tr>\n",
              "      <th>mean_cell_hb_conc</th>\n",
              "      <td>2156.0</td>\n",
              "      <td>32.259318</td>\n",
              "      <td>2.864637</td>\n",
              "      <td>15.7</td>\n",
              "      <td>30.60</td>\n",
              "      <td>32.10</td>\n",
              "      <td>33.425</td>\n",
              "      <td>46.60</td>\n",
              "    </tr>\n",
              "    <tr>\n",
              "      <th>platelet_count</th>\n",
              "      <td>2156.0</td>\n",
              "      <td>214.545176</td>\n",
              "      <td>128.697718</td>\n",
              "      <td>3.0</td>\n",
              "      <td>105.00</td>\n",
              "      <td>201.00</td>\n",
              "      <td>300.250</td>\n",
              "      <td>1087.00</td>\n",
              "    </tr>\n",
              "    <tr>\n",
              "      <th>platelet_distr_width</th>\n",
              "      <td>2156.0</td>\n",
              "      <td>14.137894</td>\n",
              "      <td>3.064643</td>\n",
              "      <td>0.0</td>\n",
              "      <td>12.90</td>\n",
              "      <td>14.90</td>\n",
              "      <td>15.600</td>\n",
              "      <td>23.90</td>\n",
              "    </tr>\n",
              "    <tr>\n",
              "      <th>mean_platelet_vl</th>\n",
              "      <td>2156.0</td>\n",
              "      <td>8.031447</td>\n",
              "      <td>1.194886</td>\n",
              "      <td>3.3</td>\n",
              "      <td>7.20</td>\n",
              "      <td>7.90</td>\n",
              "      <td>8.800</td>\n",
              "      <td>18.60</td>\n",
              "    </tr>\n",
              "    <tr>\n",
              "      <th>neutrophils_percent</th>\n",
              "      <td>2156.0</td>\n",
              "      <td>58.623006</td>\n",
              "      <td>16.613445</td>\n",
              "      <td>9.3</td>\n",
              "      <td>46.00</td>\n",
              "      <td>59.40</td>\n",
              "      <td>72.200</td>\n",
              "      <td>93.30</td>\n",
              "    </tr>\n",
              "    <tr>\n",
              "      <th>lymphocytes_percent</th>\n",
              "      <td>2156.0</td>\n",
              "      <td>33.014842</td>\n",
              "      <td>14.970647</td>\n",
              "      <td>3.8</td>\n",
              "      <td>20.60</td>\n",
              "      <td>31.70</td>\n",
              "      <td>44.200</td>\n",
              "      <td>81.50</td>\n",
              "    </tr>\n",
              "    <tr>\n",
              "      <th>mixed_cells_percent</th>\n",
              "      <td>2156.0</td>\n",
              "      <td>8.362199</td>\n",
              "      <td>3.436953</td>\n",
              "      <td>0.3</td>\n",
              "      <td>5.80</td>\n",
              "      <td>8.00</td>\n",
              "      <td>10.600</td>\n",
              "      <td>27.30</td>\n",
              "    </tr>\n",
              "    <tr>\n",
              "      <th>neutrophils_count</th>\n",
              "      <td>2156.0</td>\n",
              "      <td>6.440802</td>\n",
              "      <td>4.268695</td>\n",
              "      <td>0.1</td>\n",
              "      <td>3.60</td>\n",
              "      <td>5.40</td>\n",
              "      <td>8.000</td>\n",
              "      <td>42.00</td>\n",
              "    </tr>\n",
              "    <tr>\n",
              "      <th>lymphocytes_count</th>\n",
              "      <td>2156.0</td>\n",
              "      <td>3.430728</td>\n",
              "      <td>2.534383</td>\n",
              "      <td>0.3</td>\n",
              "      <td>1.70</td>\n",
              "      <td>2.80</td>\n",
              "      <td>4.400</td>\n",
              "      <td>28.10</td>\n",
              "    </tr>\n",
              "    <tr>\n",
              "      <th>mixed_cells_count</th>\n",
              "      <td>2156.0</td>\n",
              "      <td>0.851981</td>\n",
              "      <td>0.635395</td>\n",
              "      <td>0.0</td>\n",
              "      <td>0.40</td>\n",
              "      <td>0.70</td>\n",
              "      <td>1.100</td>\n",
              "      <td>5.60</td>\n",
              "    </tr>\n",
              "    <tr>\n",
              "      <th>RBC_dist_width_Percent</th>\n",
              "      <td>2156.0</td>\n",
              "      <td>16.333808</td>\n",
              "      <td>2.590446</td>\n",
              "      <td>10.6</td>\n",
              "      <td>14.50</td>\n",
              "      <td>15.80</td>\n",
              "      <td>17.600</td>\n",
              "      <td>29.00</td>\n",
              "    </tr>\n",
              "  </tbody>\n",
              "</table>\n",
              "</div>"
            ],
            "text/plain": [
              "                         count        mean         std   min     25%     50%  \\\n",
              "wbc_count               2156.0   10.723516    5.944994   0.5    6.80    9.30   \n",
              "rbc_count               2156.0    3.911679    1.132454   0.5    3.34    4.17   \n",
              "hb_level                2156.0    9.423010    2.650261   1.4    7.90   10.20   \n",
              "hematocrit              2156.0   29.320223    8.802975   4.3   24.20   31.70   \n",
              "mean_cell_volume        2156.0   74.828256    8.046383   7.8   70.00   75.00   \n",
              "mean_corp_hb            2156.0   24.142189    3.203595   2.1   22.20   24.10   \n",
              "mean_cell_hb_conc       2156.0   32.259318    2.864637  15.7   30.60   32.10   \n",
              "platelet_count          2156.0  214.545176  128.697718   3.0  105.00  201.00   \n",
              "platelet_distr_width    2156.0   14.137894    3.064643   0.0   12.90   14.90   \n",
              "mean_platelet_vl        2156.0    8.031447    1.194886   3.3    7.20    7.90   \n",
              "neutrophils_percent     2156.0   58.623006   16.613445   9.3   46.00   59.40   \n",
              "lymphocytes_percent     2156.0   33.014842   14.970647   3.8   20.60   31.70   \n",
              "mixed_cells_percent     2156.0    8.362199    3.436953   0.3    5.80    8.00   \n",
              "neutrophils_count       2156.0    6.440802    4.268695   0.1    3.60    5.40   \n",
              "lymphocytes_count       2156.0    3.430728    2.534383   0.3    1.70    2.80   \n",
              "mixed_cells_count       2156.0    0.851981    0.635395   0.0    0.40    0.70   \n",
              "RBC_dist_width_Percent  2156.0   16.333808    2.590446  10.6   14.50   15.80   \n",
              "\n",
              "                            75%      max  \n",
              "wbc_count                12.900    53.90  \n",
              "rbc_count                 4.650     6.67  \n",
              "hb_level                 11.325    18.70  \n",
              "hematocrit               35.500    52.70  \n",
              "mean_cell_volume         80.000   121.00  \n",
              "mean_corp_hb             26.200    38.80  \n",
              "mean_cell_hb_conc        33.425    46.60  \n",
              "platelet_count          300.250  1087.00  \n",
              "platelet_distr_width     15.600    23.90  \n",
              "mean_platelet_vl          8.800    18.60  \n",
              "neutrophils_percent      72.200    93.30  \n",
              "lymphocytes_percent      44.200    81.50  \n",
              "mixed_cells_percent      10.600    27.30  \n",
              "neutrophils_count         8.000    42.00  \n",
              "lymphocytes_count         4.400    28.10  \n",
              "mixed_cells_count         1.100     5.60  \n",
              "RBC_dist_width_Percent   17.600    29.00  "
            ]
          },
          "execution_count": 21,
          "metadata": {},
          "output_type": "execute_result"
        }
      ],
      "source": [
        "#descriptive statistics on the data\n",
        "subset.iloc[:,1:].describe().transpose()"
      ]
    },
    {
      "cell_type": "code",
      "execution_count": 22,
      "id": "99d94d9f",
      "metadata": {
        "id": "99d94d9f",
        "scrolled": true
      },
      "outputs": [
        {
          "ename": "ValueError",
          "evalue": "could not convert string to float: 'Severe Malaria'",
          "output_type": "error",
          "traceback": [
            "\u001b[1;31m---------------------------------------------------------------------------\u001b[0m",
            "\u001b[1;31mValueError\u001b[0m                                Traceback (most recent call last)",
            "Cell \u001b[1;32mIn[22], line 2\u001b[0m\n\u001b[0;32m      1\u001b[0m \u001b[38;5;66;03m#check the correlation for the features\u001b[39;00m\n\u001b[1;32m----> 2\u001b[0m \u001b[43msubset\u001b[49m\u001b[38;5;241;43m.\u001b[39;49m\u001b[43mcorr\u001b[49m\u001b[43m(\u001b[49m\u001b[43m)\u001b[49m\n",
            "File \u001b[1;32mc:\\Python312\\Lib\\site-packages\\pandas\\core\\frame.py:11049\u001b[0m, in \u001b[0;36mDataFrame.corr\u001b[1;34m(self, method, min_periods, numeric_only)\u001b[0m\n\u001b[0;32m  11047\u001b[0m cols \u001b[38;5;241m=\u001b[39m data\u001b[38;5;241m.\u001b[39mcolumns\n\u001b[0;32m  11048\u001b[0m idx \u001b[38;5;241m=\u001b[39m cols\u001b[38;5;241m.\u001b[39mcopy()\n\u001b[1;32m> 11049\u001b[0m mat \u001b[38;5;241m=\u001b[39m \u001b[43mdata\u001b[49m\u001b[38;5;241;43m.\u001b[39;49m\u001b[43mto_numpy\u001b[49m\u001b[43m(\u001b[49m\u001b[43mdtype\u001b[49m\u001b[38;5;241;43m=\u001b[39;49m\u001b[38;5;28;43mfloat\u001b[39;49m\u001b[43m,\u001b[49m\u001b[43m \u001b[49m\u001b[43mna_value\u001b[49m\u001b[38;5;241;43m=\u001b[39;49m\u001b[43mnp\u001b[49m\u001b[38;5;241;43m.\u001b[39;49m\u001b[43mnan\u001b[49m\u001b[43m,\u001b[49m\u001b[43m \u001b[49m\u001b[43mcopy\u001b[49m\u001b[38;5;241;43m=\u001b[39;49m\u001b[38;5;28;43;01mFalse\u001b[39;49;00m\u001b[43m)\u001b[49m\n\u001b[0;32m  11051\u001b[0m \u001b[38;5;28;01mif\u001b[39;00m method \u001b[38;5;241m==\u001b[39m \u001b[38;5;124m\"\u001b[39m\u001b[38;5;124mpearson\u001b[39m\u001b[38;5;124m\"\u001b[39m:\n\u001b[0;32m  11052\u001b[0m     correl \u001b[38;5;241m=\u001b[39m libalgos\u001b[38;5;241m.\u001b[39mnancorr(mat, minp\u001b[38;5;241m=\u001b[39mmin_periods)\n",
            "File \u001b[1;32mc:\\Python312\\Lib\\site-packages\\pandas\\core\\frame.py:1993\u001b[0m, in \u001b[0;36mDataFrame.to_numpy\u001b[1;34m(self, dtype, copy, na_value)\u001b[0m\n\u001b[0;32m   1991\u001b[0m \u001b[38;5;28;01mif\u001b[39;00m dtype \u001b[38;5;129;01mis\u001b[39;00m \u001b[38;5;129;01mnot\u001b[39;00m \u001b[38;5;28;01mNone\u001b[39;00m:\n\u001b[0;32m   1992\u001b[0m     dtype \u001b[38;5;241m=\u001b[39m np\u001b[38;5;241m.\u001b[39mdtype(dtype)\n\u001b[1;32m-> 1993\u001b[0m result \u001b[38;5;241m=\u001b[39m \u001b[38;5;28;43mself\u001b[39;49m\u001b[38;5;241;43m.\u001b[39;49m\u001b[43m_mgr\u001b[49m\u001b[38;5;241;43m.\u001b[39;49m\u001b[43mas_array\u001b[49m\u001b[43m(\u001b[49m\u001b[43mdtype\u001b[49m\u001b[38;5;241;43m=\u001b[39;49m\u001b[43mdtype\u001b[49m\u001b[43m,\u001b[49m\u001b[43m \u001b[49m\u001b[43mcopy\u001b[49m\u001b[38;5;241;43m=\u001b[39;49m\u001b[43mcopy\u001b[49m\u001b[43m,\u001b[49m\u001b[43m \u001b[49m\u001b[43mna_value\u001b[49m\u001b[38;5;241;43m=\u001b[39;49m\u001b[43mna_value\u001b[49m\u001b[43m)\u001b[49m\n\u001b[0;32m   1994\u001b[0m \u001b[38;5;28;01mif\u001b[39;00m result\u001b[38;5;241m.\u001b[39mdtype \u001b[38;5;129;01mis\u001b[39;00m \u001b[38;5;129;01mnot\u001b[39;00m dtype:\n\u001b[0;32m   1995\u001b[0m     result \u001b[38;5;241m=\u001b[39m np\u001b[38;5;241m.\u001b[39masarray(result, dtype\u001b[38;5;241m=\u001b[39mdtype)\n",
            "File \u001b[1;32mc:\\Python312\\Lib\\site-packages\\pandas\\core\\internals\\managers.py:1694\u001b[0m, in \u001b[0;36mBlockManager.as_array\u001b[1;34m(self, dtype, copy, na_value)\u001b[0m\n\u001b[0;32m   1692\u001b[0m         arr\u001b[38;5;241m.\u001b[39mflags\u001b[38;5;241m.\u001b[39mwriteable \u001b[38;5;241m=\u001b[39m \u001b[38;5;28;01mFalse\u001b[39;00m\n\u001b[0;32m   1693\u001b[0m \u001b[38;5;28;01melse\u001b[39;00m:\n\u001b[1;32m-> 1694\u001b[0m     arr \u001b[38;5;241m=\u001b[39m \u001b[38;5;28;43mself\u001b[39;49m\u001b[38;5;241;43m.\u001b[39;49m\u001b[43m_interleave\u001b[49m\u001b[43m(\u001b[49m\u001b[43mdtype\u001b[49m\u001b[38;5;241;43m=\u001b[39;49m\u001b[43mdtype\u001b[49m\u001b[43m,\u001b[49m\u001b[43m \u001b[49m\u001b[43mna_value\u001b[49m\u001b[38;5;241;43m=\u001b[39;49m\u001b[43mna_value\u001b[49m\u001b[43m)\u001b[49m\n\u001b[0;32m   1695\u001b[0m     \u001b[38;5;66;03m# The underlying data was copied within _interleave, so no need\u001b[39;00m\n\u001b[0;32m   1696\u001b[0m     \u001b[38;5;66;03m# to further copy if copy=True or setting na_value\u001b[39;00m\n\u001b[0;32m   1698\u001b[0m \u001b[38;5;28;01mif\u001b[39;00m na_value \u001b[38;5;129;01mis\u001b[39;00m lib\u001b[38;5;241m.\u001b[39mno_default:\n",
            "File \u001b[1;32mc:\\Python312\\Lib\\site-packages\\pandas\\core\\internals\\managers.py:1753\u001b[0m, in \u001b[0;36mBlockManager._interleave\u001b[1;34m(self, dtype, na_value)\u001b[0m\n\u001b[0;32m   1751\u001b[0m     \u001b[38;5;28;01melse\u001b[39;00m:\n\u001b[0;32m   1752\u001b[0m         arr \u001b[38;5;241m=\u001b[39m blk\u001b[38;5;241m.\u001b[39mget_values(dtype)\n\u001b[1;32m-> 1753\u001b[0m     \u001b[43mresult\u001b[49m\u001b[43m[\u001b[49m\u001b[43mrl\u001b[49m\u001b[38;5;241;43m.\u001b[39;49m\u001b[43mindexer\u001b[49m\u001b[43m]\u001b[49m \u001b[38;5;241m=\u001b[39m arr\n\u001b[0;32m   1754\u001b[0m     itemmask[rl\u001b[38;5;241m.\u001b[39mindexer] \u001b[38;5;241m=\u001b[39m \u001b[38;5;241m1\u001b[39m\n\u001b[0;32m   1756\u001b[0m \u001b[38;5;28;01mif\u001b[39;00m \u001b[38;5;129;01mnot\u001b[39;00m itemmask\u001b[38;5;241m.\u001b[39mall():\n",
            "\u001b[1;31mValueError\u001b[0m: could not convert string to float: 'Severe Malaria'"
          ]
        }
      ],
      "source": [
        "#check the correlation for the features\n",
        "subset.corr()"
      ]
    },
    {
      "cell_type": "code",
      "execution_count": null,
      "id": "cd99db30",
      "metadata": {
        "id": "cd99db30"
      },
      "outputs": [],
      "source": [
        "#lets visualize the correlation matrix using seaborn\n",
        "sns.heatmap(subset.corr(),cmap='coolwarm')"
      ]
    },
    {
      "cell_type": "code",
      "execution_count": null,
      "id": "illegal-saint",
      "metadata": {
        "id": "illegal-saint"
      },
      "outputs": [],
      "source": []
    },
    {
      "cell_type": "markdown",
      "id": "nuclear-attraction",
      "metadata": {
        "id": "nuclear-attraction"
      },
      "source": [
        "### Data Preprocessing"
      ]
    },
    {
      "cell_type": "code",
      "execution_count": null,
      "id": "8903eab7",
      "metadata": {
        "id": "8903eab7"
      },
      "outputs": [],
      "source": [
        "# separate the labels/classes from the features/measurement\n",
        "X=subset.iloc[:,1:]\n",
        "y=subset.iloc[:,0]"
      ]
    },
    {
      "cell_type": "markdown",
      "id": "42c1604e",
      "metadata": {
        "id": "42c1604e"
      },
      "source": [
        "\\\n",
        "**Encode labels** \\\n",
        "This is required by scikit learn when dealing with categorical data."
      ]
    },
    {
      "cell_type": "code",
      "execution_count": null,
      "id": "33eb6953",
      "metadata": {
        "id": "33eb6953"
      },
      "outputs": [],
      "source": [
        "#Lets encode target labels (y) with values between 0 and n_classes-1.\n",
        "#We will use the LabelEncoder to do this. \n",
        "from sklearn.preprocessing import LabelEncoder\n",
        "label_encoder=LabelEncoder()\n",
        "label_encoder.fit(y)\n",
        "y=label_encoder.transform(y)\n",
        "classes=label_encoder.classes_"
      ]
    },
    {
      "cell_type": "markdown",
      "id": "liquid-cooperative",
      "metadata": {
        "id": "liquid-cooperative"
      },
      "source": [
        "### Split data into train and test sets"
      ]
    },
    {
      "cell_type": "code",
      "execution_count": null,
      "id": "c396c54d",
      "metadata": {
        "id": "c396c54d"
      },
      "outputs": [],
      "source": [
        "# train test ratio 80:20"
      ]
    },
    {
      "cell_type": "code",
      "execution_count": null,
      "id": "a443e25e",
      "metadata": {
        "id": "a443e25e"
      },
      "outputs": [],
      "source": [
        "from sklearn.model_selection import train_test_split\n",
        "X_train,X_test,y_train,y_test=train_test_split(X,y,test_size=0.2)"
      ]
    },
    {
      "cell_type": "markdown",
      "id": "adapted-navigator",
      "metadata": {
        "id": "adapted-navigator"
      },
      "source": [
        "### Normalize the data"
      ]
    },
    {
      "cell_type": "code",
      "execution_count": null,
      "id": "b82dde0a",
      "metadata": {
        "id": "b82dde0a"
      },
      "outputs": [],
      "source": [
        "# scale data between 0 and 1"
      ]
    },
    {
      "cell_type": "code",
      "execution_count": null,
      "id": "a05b72bf",
      "metadata": {
        "id": "a05b72bf"
      },
      "outputs": [],
      "source": [
        "from sklearn.preprocessing import MinMaxScaler\n",
        "min_max_scaler=MinMaxScaler()\n",
        "X_train_norm=min_max_scaler.fit_transform(X_train)\n",
        "X_test_norm=min_max_scaler.fit_transform(X_test)"
      ]
    },
    {
      "cell_type": "markdown",
      "id": "3f9dd811",
      "metadata": {
        "id": "3f9dd811"
      },
      "source": [
        "### Classification"
      ]
    },
    {
      "cell_type": "code",
      "execution_count": null,
      "id": "EK6SU1F1iMPH",
      "metadata": {
        "id": "EK6SU1F1iMPH"
      },
      "outputs": [],
      "source": [
        "from sklearn.multiclass import OneVsRestClassifier\n",
        "from sklearn.ensemble import RandomForestClassifier\n",
        "from sklearn.metrics import roc_curve,auc"
      ]
    },
    {
      "cell_type": "markdown",
      "id": "egyptian-mileage",
      "metadata": {
        "id": "egyptian-mileage"
      },
      "source": [
        "#### Training Phase\n",
        "This will be done by parsing the training set to a classifier or classifiers\n",
        "Because we are dealing with 3 classes, this becomes a multiclass classification problem.\n",
        "We therefore us the One-vs-the-rest strategy.\\\n",
        "This strategy involves fitting one classifier per class. For each classifier, the class is fitted against all the other classes. \n",
        "Here, we use the Random Forest Classifier"
      ]
    },
    {
      "cell_type": "code",
      "execution_count": null,
      "id": "mNeL3kCthMUM",
      "metadata": {
        "id": "mNeL3kCthMUM"
      },
      "outputs": [],
      "source": [
        "#Random Forest Classifier\n",
        "#because we are dealing with multiclass data and so, the one versus rest strategy is used.\n",
        "#learn to predict each class against the other.\n",
        "\n",
        "RF=OneVsRestClassifier(RandomForestClassifier(max_features=0.2))\n",
        "RF.fit(X_train_norm,y_train)\n",
        "y_pred =RF.predict(X_test_norm)\n",
        "pred_prob = RF.predict_proba(X_test_norm)"
      ]
    },
    {
      "cell_type": "markdown",
      "id": "fcc47a6c",
      "metadata": {
        "id": "fcc47a6c"
      },
      "source": [
        "#### Plot the ROC Curve"
      ]
    },
    {
      "cell_type": "code",
      "execution_count": null,
      "id": "EsqLPx8Bf0Wz",
      "metadata": {
        "id": "EsqLPx8Bf0Wz"
      },
      "outputs": [],
      "source": [
        "from sklearn.preprocessing import label_binarize\n",
        "#binarize the y_values\n",
        "\n",
        "y_test_binarized=label_binarize(y_test,classes=np.unique(y_test))\n",
        "\n",
        "# roc curve for classes\n",
        "fpr = {}\n",
        "tpr = {}\n",
        "thresh ={}\n",
        "roc_auc = dict()\n",
        "\n",
        "n_class = classes.shape[0]\n",
        "\n",
        "for i in range(n_class):    \n",
        "    fpr[i], tpr[i], thresh[i] = roc_curve(y_test_binarized[:,i], pred_prob[:,i])\n",
        "    roc_auc[i] = auc(fpr[i], tpr[i])\n",
        "    \n",
        "    # plotting    \n",
        "    plt.plot(fpr[i], tpr[i], linestyle='--', \n",
        "             label='%s vs Rest (AUC=%0.2f)'%(classes[i],roc_auc[i]))\n",
        "\n",
        "plt.plot([0,1],[0,1],'b--')\n",
        "plt.xlim([0,1])\n",
        "plt.ylim([0,1.05])\n",
        "plt.title('Multiclass ROC curve')\n",
        "plt.xlabel('False Positive Rate')\n",
        "plt.ylabel('True Positive rate')\n",
        "plt.legend(loc='lower right')\n",
        "plt.show()"
      ]
    }
  ],
  "metadata": {
    "colab": {
      "name": "ROC_Multiclass_Random_Forest.ipynb",
      "provenance": []
    },
    "kernelspec": {
      "display_name": "Python 3 (ipykernel)",
      "language": "python",
      "name": "python3"
    },
    "language_info": {
      "codemirror_mode": {
        "name": "ipython",
        "version": 3
      },
      "file_extension": ".py",
      "mimetype": "text/x-python",
      "name": "python",
      "nbconvert_exporter": "python",
      "pygments_lexer": "ipython3",
      "version": "3.12.4"
    }
  },
  "nbformat": 4,
  "nbformat_minor": 5
}
