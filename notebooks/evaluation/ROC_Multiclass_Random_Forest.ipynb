{
  "cells": [
    {
      "cell_type": "markdown",
      "id": "modern-auction",
      "metadata": {
        "id": "modern-auction"
      },
      "source": [
        "# ROC Curve  for multiclass classification \n",
        "**Classifier**: Random Forest"
      ]
    },
    {
      "cell_type": "markdown",
      "id": "206fd86c",
      "metadata": {
        "id": "206fd86c"
      },
      "source": [
        "The dataset used in this tutorial is from this paper:<br>\n",
        "Morang’a, C.M., Amenga–Etego, L., Bah, S.Y. et al. Machine learning approaches classify clinical malaria outcomes based on haematological parameters. BMC Med 18, 375 (2020). https://doi.org/10.1186/s12916-020-01823-3"
      ]
    },
    {
      "cell_type": "markdown",
      "id": "controlled-saudi",
      "metadata": {
        "id": "controlled-saudi"
      },
      "source": [
        "### Import libraries for the analysis "
      ]
    },
    {
      "cell_type": "code",
      "execution_count": null,
      "id": "overhead-prefix",
      "metadata": {
        "id": "overhead-prefix"
      },
      "outputs": [],
      "source": [
        "import pandas as pd        \n",
        "import numpy as np         \n",
        "import matplotlib.pyplot as plt   \n",
        "import seaborn as sns             "
      ]
    },
    {
      "cell_type": "markdown",
      "id": "comparable-transcription",
      "metadata": {
        "id": "comparable-transcription"
      },
      "source": [
        "### Read the data"
      ]
    },
    {
      "cell_type": "code",
      "execution_count": null,
      "id": "flexible-monthly",
      "metadata": {
        "id": "flexible-monthly"
      },
      "outputs": [],
      "source": [
        "#set path to the data file.\n",
        "data_file='https://raw.githubusercontent.com/vappiah/Machine-Learning-Tutorials/main/datasets/malaria_clin_data.csv'"
      ]
    },
    {
      "cell_type": "code",
      "execution_count": null,
      "id": "photographic-worry",
      "metadata": {
        "id": "photographic-worry"
      },
      "outputs": [],
      "source": [
        "#read the data with pandas\n",
        "dataframe=pd.read_csv(data_file)"
      ]
    },
    {
      "cell_type": "markdown",
      "id": "coordinate-scotland",
      "metadata": {
        "id": "coordinate-scotland"
      },
      "source": [
        "### Explore and clean"
      ]
    },
    {
      "cell_type": "code",
      "execution_count": null,
      "id": "3e5b41ad",
      "metadata": {
        "id": "3e5b41ad"
      },
      "outputs": [],
      "source": [
        "#find the number of rows and columns in the dataframe\n",
        "dataframe.shape"
      ]
    },
    {
      "cell_type": "code",
      "execution_count": null,
      "id": "c06f4ccf",
      "metadata": {
        "id": "c06f4ccf",
        "scrolled": true
      },
      "outputs": [],
      "source": [
        "#get the first n rows in the dataframe\n",
        "dataframe.head(n=5)"
      ]
    },
    {
      "cell_type": "code",
      "execution_count": null,
      "id": "cee131ee",
      "metadata": {
        "id": "cee131ee"
      },
      "outputs": [],
      "source": [
        "# list the column names\n",
        "dataframe.columns"
      ]
    },
    {
      "cell_type": "code",
      "execution_count": null,
      "id": "57622b34",
      "metadata": {
        "id": "57622b34",
        "scrolled": true
      },
      "outputs": [],
      "source": [
        "#obtain some information about the data \n",
        "#i.e. columns,datatypes,missing values,etc\n",
        "dataframe.info()"
      ]
    },
    {
      "cell_type": "code",
      "execution_count": null,
      "id": "0b6a589c",
      "metadata": {
        "id": "0b6a589c"
      },
      "outputs": [],
      "source": [
        "#we are interested in the columns : 'Clinical_diagnosis' up to 'RBC_dist_width_Percent'\n",
        "#meaning we will subset the data from column 16 - the last column\n",
        "subset=dataframe.iloc[:,16:]"
      ]
    },
    {
      "cell_type": "code",
      "execution_count": null,
      "id": "fc1a0186",
      "metadata": {
        "id": "fc1a0186"
      },
      "outputs": [],
      "source": [
        "subset.shape"
      ]
    },
    {
      "cell_type": "code",
      "execution_count": null,
      "id": "38ba54da",
      "metadata": {
        "id": "38ba54da",
        "scrolled": true
      },
      "outputs": [],
      "source": [
        "subset.info()"
      ]
    },
    {
      "cell_type": "code",
      "execution_count": null,
      "id": "23afa181",
      "metadata": {
        "id": "23afa181"
      },
      "outputs": [],
      "source": [
        "#Check the mising data. We are interested in how many missing data are present in each column\n",
        "subset.isnull().sum()"
      ]
    },
    {
      "cell_type": "code",
      "execution_count": null,
      "id": "7325d532",
      "metadata": {
        "id": "7325d532"
      },
      "outputs": [],
      "source": [
        "# handling missing values\n",
        "# drop / remove all rows with missing values\n",
        "subset.dropna(inplace=True)"
      ]
    },
    {
      "cell_type": "code",
      "execution_count": null,
      "id": "fcab3308",
      "metadata": {
        "id": "fcab3308"
      },
      "outputs": [],
      "source": [
        "subset.shape"
      ]
    },
    {
      "cell_type": "code",
      "execution_count": null,
      "id": "f3eb1260",
      "metadata": {
        "id": "f3eb1260"
      },
      "outputs": [],
      "source": [
        "subset.columns"
      ]
    },
    {
      "cell_type": "code",
      "execution_count": null,
      "id": "c3a3b740",
      "metadata": {
        "id": "c3a3b740"
      },
      "outputs": [],
      "source": [
        "#Let us get the different malaria outcomes. \n",
        "#The outcomes will be our labels/classes in the data"
      ]
    },
    {
      "cell_type": "code",
      "execution_count": null,
      "id": "d365e4eb",
      "metadata": {
        "id": "d365e4eb"
      },
      "outputs": [],
      "source": [
        "subset['Clinical_Diagnosis'].unique()"
      ]
    },
    {
      "cell_type": "code",
      "execution_count": null,
      "id": "f3270bab",
      "metadata": {
        "id": "f3270bab"
      },
      "outputs": [],
      "source": [
        "labels=pd.Categorical(subset['Clinical_Diagnosis'])\n",
        "labels"
      ]
    },
    {
      "cell_type": "code",
      "execution_count": null,
      "id": "479b921e",
      "metadata": {
        "id": "479b921e",
        "scrolled": true
      },
      "outputs": [],
      "source": [
        "subset.head()"
      ]
    },
    {
      "cell_type": "code",
      "execution_count": null,
      "id": "653fee51",
      "metadata": {
        "id": "653fee51"
      },
      "outputs": [],
      "source": [
        "#class distribution\n",
        "subset['Clinical_Diagnosis'].value_counts()"
      ]
    },
    {
      "cell_type": "code",
      "execution_count": null,
      "id": "5340a0bf",
      "metadata": {
        "id": "5340a0bf",
        "scrolled": true
      },
      "outputs": [],
      "source": [
        "# plot a bar chat to display the class distribution\n",
        "subset['Clinical_Diagnosis'].value_counts().plot.bar()"
      ]
    },
    {
      "cell_type": "code",
      "execution_count": null,
      "id": "143dc7d4",
      "metadata": {
        "id": "143dc7d4",
        "scrolled": true
      },
      "outputs": [],
      "source": [
        "#descriptive statistics on the data\n",
        "subset.iloc[:,1:].describe().transpose()"
      ]
    },
    {
      "cell_type": "code",
      "execution_count": null,
      "id": "99d94d9f",
      "metadata": {
        "id": "99d94d9f",
        "scrolled": true
      },
      "outputs": [],
      "source": [
        "#check the correlation for the features\n",
        "subset.corr()"
      ]
    },
    {
      "cell_type": "code",
      "execution_count": null,
      "id": "cd99db30",
      "metadata": {
        "id": "cd99db30"
      },
      "outputs": [],
      "source": [
        "#lets visualize the correlation matrix using seaborn\n",
        "sns.heatmap(subset.corr(),cmap='coolwarm')"
      ]
    },
    {
      "cell_type": "code",
      "execution_count": null,
      "id": "illegal-saint",
      "metadata": {
        "id": "illegal-saint"
      },
      "outputs": [],
      "source": [
        ""
      ]
    },
    {
      "cell_type": "markdown",
      "id": "nuclear-attraction",
      "metadata": {
        "id": "nuclear-attraction"
      },
      "source": [
        "### Data Preprocessing"
      ]
    },
    {
      "cell_type": "code",
      "execution_count": null,
      "id": "8903eab7",
      "metadata": {
        "id": "8903eab7"
      },
      "outputs": [],
      "source": [
        "# separate the labels/classes from the features/measurement\n",
        "X=subset.iloc[:,1:]\n",
        "y=subset.iloc[:,0]"
      ]
    },
    {
      "cell_type": "markdown",
      "id": "42c1604e",
      "metadata": {
        "id": "42c1604e"
      },
      "source": [
        "\\\n",
        "**Encode labels** \\\n",
        "This is required by scikit learn when dealing with categorical data."
      ]
    },
    {
      "cell_type": "code",
      "execution_count": null,
      "id": "33eb6953",
      "metadata": {
        "id": "33eb6953"
      },
      "outputs": [],
      "source": [
        "#Lets encode target labels (y) with values between 0 and n_classes-1.\n",
        "#We will use the LabelEncoder to do this. \n",
        "from sklearn.preprocessing import LabelEncoder\n",
        "label_encoder=LabelEncoder()\n",
        "label_encoder.fit(y)\n",
        "y=label_encoder.transform(y)\n",
        "classes=label_encoder.classes_"
      ]
    },
    {
      "cell_type": "markdown",
      "id": "liquid-cooperative",
      "metadata": {
        "id": "liquid-cooperative"
      },
      "source": [
        "### Split data into train and test sets"
      ]
    },
    {
      "cell_type": "code",
      "execution_count": null,
      "id": "c396c54d",
      "metadata": {
        "id": "c396c54d"
      },
      "outputs": [],
      "source": [
        "# train test ratio 80:20"
      ]
    },
    {
      "cell_type": "code",
      "execution_count": null,
      "id": "a443e25e",
      "metadata": {
        "id": "a443e25e"
      },
      "outputs": [],
      "source": [
        "from sklearn.model_selection import train_test_split\n",
        "X_train,X_test,y_train,y_test=train_test_split(X,y,test_size=0.2)"
      ]
    },
    {
      "cell_type": "markdown",
      "id": "adapted-navigator",
      "metadata": {
        "id": "adapted-navigator"
      },
      "source": [
        "### Normalize the data"
      ]
    },
    {
      "cell_type": "code",
      "execution_count": null,
      "id": "b82dde0a",
      "metadata": {
        "id": "b82dde0a"
      },
      "outputs": [],
      "source": [
        "# scale data between 0 and 1"
      ]
    },
    {
      "cell_type": "code",
      "execution_count": null,
      "id": "a05b72bf",
      "metadata": {
        "id": "a05b72bf"
      },
      "outputs": [],
      "source": [
        "from sklearn.preprocessing import MinMaxScaler\n",
        "min_max_scaler=MinMaxScaler()\n",
        "X_train_norm=min_max_scaler.fit_transform(X_train)\n",
        "X_test_norm=min_max_scaler.fit_transform(X_test)"
      ]
    },
    {
      "cell_type": "markdown",
      "id": "3f9dd811",
      "metadata": {
        "id": "3f9dd811"
      },
      "source": [
        "### Classification"
      ]
    },
    {
      "cell_type": "code",
      "execution_count": null,
      "id": "EK6SU1F1iMPH",
      "metadata": {
        "id": "EK6SU1F1iMPH"
      },
      "outputs": [],
      "source": [
        "from sklearn.multiclass import OneVsRestClassifier\n",
        "from sklearn.ensemble import RandomForestClassifier\n",
        "from sklearn.metrics import roc_curve,auc"
      ]
    },
    {
      "cell_type": "markdown",
      "id": "egyptian-mileage",
      "metadata": {
        "id": "egyptian-mileage"
      },
      "source": [
        "#### Training Phase\n",
        "This will be done by parsing the training set to a classifier or classifiers\n",
        "Because we are dealing with 3 classes, this becomes a multiclass classification problem.\n",
        "We therefore us the One-vs-the-rest strategy.\\\n",
        "This strategy involves fitting one classifier per class. For each classifier, the class is fitted against all the other classes. \n",
        "Here, we use the Random Forest Classifier"
      ]
    },
    {
      "cell_type": "code",
      "execution_count": null,
      "id": "mNeL3kCthMUM",
      "metadata": {
        "id": "mNeL3kCthMUM"
      },
      "outputs": [],
      "source": [
        "#Random Forest Classifier\n",
        "#because we are dealing with multiclass data and so, the one versus rest strategy is used.\n",
        "#learn to predict each class against the other.\n",
        "\n",
        "RF=OneVsRestClassifier(RandomForestClassifier(max_features=0.2))\n",
        "RF.fit(X_train_norm,y_train)\n",
        "y_pred =RF.predict(X_test_norm)\n",
        "pred_prob = RF.predict_proba(X_test_norm)"
      ]
    },
    {
      "cell_type": "markdown",
      "id": "fcc47a6c",
      "metadata": {
        "id": "fcc47a6c"
      },
      "source": [
        "#### Plot the ROC Curve"
      ]
    },
    {
      "cell_type": "code",
      "execution_count": null,
      "id": "EsqLPx8Bf0Wz",
      "metadata": {
        "id": "EsqLPx8Bf0Wz"
      },
      "outputs": [],
      "source": [
        "from sklearn.preprocessing import label_binarize\n",
        "#binarize the y_values\n",
        "\n",
        "y_test_binarized=label_binarize(y_test,classes=np.unique(y_test))\n",
        "\n",
        "# roc curve for classes\n",
        "fpr = {}\n",
        "tpr = {}\n",
        "thresh ={}\n",
        "roc_auc = dict()\n",
        "\n",
        "n_class = classes.shape[0]\n",
        "\n",
        "for i in range(n_class):    \n",
        "    fpr[i], tpr[i], thresh[i] = roc_curve(y_test_binarized[:,i], pred_prob[:,i])\n",
        "    roc_auc[i] = auc(fpr[i], tpr[i])\n",
        "    \n",
        "    # plotting    \n",
        "    plt.plot(fpr[i], tpr[i], linestyle='--', \n",
        "             label='%s vs Rest (AUC=%0.2f)'%(classes[i],roc_auc[i]))\n",
        "\n",
        "plt.plot([0,1],[0,1],'b--')\n",
        "plt.xlim([0,1])\n",
        "plt.ylim([0,1.05])\n",
        "plt.title('Multiclass ROC curve')\n",
        "plt.xlabel('False Positive Rate')\n",
        "plt.ylabel('True Positive rate')\n",
        "plt.legend(loc='lower right')\n",
        "plt.show()"
      ]
    }
  ],
  "metadata": {
    "colab": {
      "name": "ROC_Multiclass_Random_Forest.ipynb",
      "provenance": []
    },
    "kernelspec": {
      "display_name": "Python 3 (ipykernel)",
      "language": "python",
      "name": "python3"
    },
    "language_info": {
      "codemirror_mode": {
        "name": "ipython",
        "version": 3
      },
      "file_extension": ".py",
      "mimetype": "text/x-python",
      "name": "python",
      "nbconvert_exporter": "python",
      "pygments_lexer": "ipython3",
      "version": "3.8.10"
    }
  },
  "nbformat": 4,
  "nbformat_minor": 5
}